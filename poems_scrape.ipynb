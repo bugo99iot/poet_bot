{
 "cells": [
  {
   "cell_type": "code",
   "execution_count": 1,
   "metadata": {
    "collapsed": true
   },
   "outputs": [],
   "source": [
    "import requests\n",
    "from bs4 import BeautifulSoup\n",
    "import pandas as pd"
   ]
  },
  {
   "cell_type": "code",
   "execution_count": 2,
   "metadata": {},
   "outputs": [],
   "source": [
    "top_500_urls = [\"https://www.poemhunter.com/p/m/l.asp?a=0&l=top500&order=title&p=\" + str(i) for i in range(1,21)]\n",
    "\n",
    "url_stem = \"https://www.poemhunter.com\"\n",
    "links = []\n",
    "\n",
    "for url in top_500_urls:\n",
    "\n",
    "    response = requests.get(url)\n",
    "    soup = BeautifulSoup(response.text,\"lxml\")\n",
    "    poems = soup.findAll('td',{\"class\":'title'})\n",
    "\n",
    "    for poem in poems[1:]:\n",
    "        links.append(url_stem + str(poem.find('a')['href']))"
   ]
  },
  {
   "cell_type": "code",
   "execution_count": 3,
   "metadata": {},
   "outputs": [
    {
     "name": "stdout",
     "output_type": "stream",
     "text": [
      "https://www.poemhunter.com/poem/after-auschwitz/\n",
      "list index out of range\n",
      "https://www.poemhunter.com/poem/i-sit-and-think/\n",
      "list index out of range\n"
     ]
    }
   ],
   "source": [
    "df = pd.DataFrame({\"author\" : [], \"title\": [], \"text\": []}, columns=[\"author\",\"title\",\"text\"])\n",
    "\n",
    "for link in links:\n",
    "    try:\n",
    "        #item = [\"author\", \"title\", \"text\"]\n",
    "        response = requests.get(link)\n",
    "        soup = BeautifulSoup(response.text,\"lxml\")\n",
    "        text = soup.find('p',attrs={'class': None})\n",
    "        text = str(text).replace(\"</p>\",\"\").replace(\"<p>\",\"\").replace(\"  \",\" \").replace('\"\"','').strip()\n",
    "        title_author = soup.find('title',attrs={'class': None})\n",
    "        title_author = str(title_author).replace(\"</title>\",\"\").replace(\"<title>\",\"\").split(\"Poem by\")\n",
    "        title = title_author[0].strip()\n",
    "        author = title_author[1].replace(\"-\",\"\").replace(\"Poem Hunter\",\"\").strip()\n",
    "        df = df.append(pd.DataFrame({\"author\" : [author], \"title\": [title], \"text\": [text]}))\n",
    "    except Exception as e:\n",
    "        print(link)\n",
    "        print(e)\n",
    "df = df.reset_index(drop=True)"
   ]
  },
  {
   "cell_type": "code",
   "execution_count": 12,
   "metadata": {},
   "outputs": [],
   "source": [
    "df.head()\n",
    "with open('poems_collection.csv', \"w\") as f:\n",
    "    df.to_csv(f, header=True, index=False)"
   ]
  },
  {
   "cell_type": "code",
   "execution_count": null,
   "metadata": {
    "collapsed": true
   },
   "outputs": [],
   "source": []
  }
 ],
 "metadata": {
  "kernelspec": {
   "display_name": "Python 3",
   "language": "python",
   "name": "python3"
  },
  "language_info": {
   "codemirror_mode": {
    "name": "ipython",
    "version": 3
   },
   "file_extension": ".py",
   "mimetype": "text/x-python",
   "name": "python",
   "nbconvert_exporter": "python",
   "pygments_lexer": "ipython3",
   "version": "3.5.2"
  }
 },
 "nbformat": 4,
 "nbformat_minor": 2
}
