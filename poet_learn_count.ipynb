{
 "cells": [
  {
   "cell_type": "code",
   "execution_count": 14,
   "metadata": {
    "collapsed": true
   },
   "outputs": [],
   "source": [
    "import pandas as pd\n",
    "import nltk\n",
    "from nltk.stem import PorterStemmer\n",
    "import re\n",
    "from nltk.corpus import stopwords\n",
    "from nltk import word_tokenize, pos_tag"
   ]
  },
  {
   "cell_type": "code",
   "execution_count": 15,
   "metadata": {},
   "outputs": [
    {
     "data": {
      "text/html": [
       "<div>\n",
       "<style>\n",
       "    .dataframe thead tr:only-child th {\n",
       "        text-align: right;\n",
       "    }\n",
       "\n",
       "    .dataframe thead th {\n",
       "        text-align: left;\n",
       "    }\n",
       "\n",
       "    .dataframe tbody tr th {\n",
       "        vertical-align: top;\n",
       "    }\n",
       "</style>\n",
       "<table border=\"1\" class=\"dataframe\">\n",
       "  <thead>\n",
       "    <tr style=\"text-align: right;\">\n",
       "      <th></th>\n",
       "      <th>text</th>\n",
       "    </tr>\n",
       "  </thead>\n",
       "  <tbody>\n",
       "    <tr>\n",
       "      <th>0</th>\n",
       "      <td>['phenomen', 'woman', 'phenomen', 'woman', 'pr...</td>\n",
       "    </tr>\n",
       "    <tr>\n",
       "      <th>1</th>\n",
       "      <td>['still', 'rise', 'still', 'rise', 'may', 'wri...</td>\n",
       "    </tr>\n",
       "    <tr>\n",
       "      <th>2</th>\n",
       "      <td>['road', 'taken', 'road', 'taken', 'two', 'roa...</td>\n",
       "    </tr>\n",
       "    <tr>\n",
       "      <th>3</th>\n",
       "      <td>['forget', 'forget', 'want', 'know', 'one', 't...</td>\n",
       "    </tr>\n",
       "    <tr>\n",
       "      <th>4</th>\n",
       "      <td>['dream', 'dream', 'hold', 'fast', 'dream', 'd...</td>\n",
       "    </tr>\n",
       "  </tbody>\n",
       "</table>\n",
       "</div>"
      ],
      "text/plain": [
       "                                                text\n",
       "0  ['phenomen', 'woman', 'phenomen', 'woman', 'pr...\n",
       "1  ['still', 'rise', 'still', 'rise', 'may', 'wri...\n",
       "2  ['road', 'taken', 'road', 'taken', 'two', 'roa...\n",
       "3  ['forget', 'forget', 'want', 'know', 'one', 't...\n",
       "4  ['dream', 'dream', 'hold', 'fast', 'dream', 'd..."
      ]
     },
     "execution_count": 15,
     "metadata": {},
     "output_type": "execute_result"
    }
   ],
   "source": [
    "df = pd.read_csv(\"tokenized_poems.csv\", header=None)\n",
    "df=df.fillna(\" \")\n",
    "df.columns = [\"text\"]\n",
    "df.head()"
   ]
  },
  {
   "cell_type": "code",
   "execution_count": 16,
   "metadata": {},
   "outputs": [
    {
     "name": "stdout",
     "output_type": "stream",
     "text": [
      "['orgi']\n"
     ]
    }
   ],
   "source": [
    "ps = PorterStemmer()\n",
    "def clean_string(row):\n",
    "    tokens = word_tokenize(row.lower())\n",
    "    filtered_tokens = [ps.stem(word) for word in tokens if word not in stopwords.words('english') and bool(re.search(\"[-0123456789`>(</',;:!?.)]\", word))==False]\n",
    "    return filtered_tokens\n",
    "search = \"orgy\"\n",
    "search = clean_string(search)\n",
    "print(search)"
   ]
  },
  {
   "cell_type": "code",
   "execution_count": 17,
   "metadata": {
    "collapsed": true
   },
   "outputs": [],
   "source": [
    "def counts(row):\n",
    "    tot=0\n",
    "    for item in search:\n",
    "        tot+=row.count(item)\n",
    "    return tot\n",
    "df[\"counts\"]=df[\"text\"].apply(counts)\n",
    "\n",
    "#print(df[\"counts\"])\n",
    "\n",
    "target_index = df[\"counts\"].idxmax()\n",
    "\n",
    "if df[\"counts\"][target_index] < 1.0:\n",
    "    print(\"Sorry, no match was found, try again!\")\n",
    "    #add while loop"
   ]
  },
  {
   "cell_type": "code",
   "execution_count": 18,
   "metadata": {},
   "outputs": [
    {
     "data": {
      "text/html": [
       "<div>\n",
       "<style>\n",
       "    .dataframe thead tr:only-child th {\n",
       "        text-align: right;\n",
       "    }\n",
       "\n",
       "    .dataframe thead th {\n",
       "        text-align: left;\n",
       "    }\n",
       "\n",
       "    .dataframe tbody tr th {\n",
       "        vertical-align: top;\n",
       "    }\n",
       "</style>\n",
       "<table border=\"1\" class=\"dataframe\">\n",
       "  <thead>\n",
       "    <tr style=\"text-align: right;\">\n",
       "      <th></th>\n",
       "      <th>0</th>\n",
       "      <th>1</th>\n",
       "      <th>2</th>\n",
       "    </tr>\n",
       "  </thead>\n",
       "  <tbody>\n",
       "    <tr>\n",
       "      <th>0</th>\n",
       "      <td>author</td>\n",
       "      <td>text</td>\n",
       "      <td>title</td>\n",
       "    </tr>\n",
       "    <tr>\n",
       "      <th>1</th>\n",
       "      <td>Maya Angelou</td>\n",
       "      <td>Pretty women wonder where my secret lies.&lt;br/&gt;...</td>\n",
       "      <td>Phenomenal Woman</td>\n",
       "    </tr>\n",
       "    <tr>\n",
       "      <th>2</th>\n",
       "      <td>Maya Angelou</td>\n",
       "      <td>You may write me down in history&lt;br/&gt;With your...</td>\n",
       "      <td>Still I Rise</td>\n",
       "    </tr>\n",
       "    <tr>\n",
       "      <th>3</th>\n",
       "      <td>Robert Frost</td>\n",
       "      <td>Two roads diverged in a yellow wood,&lt;br/&gt;And s...</td>\n",
       "      <td>The Road Not Taken</td>\n",
       "    </tr>\n",
       "    <tr>\n",
       "      <th>4</th>\n",
       "      <td>Pablo Neruda</td>\n",
       "      <td>I want you to know&lt;br/&gt;one thing. &lt;br/&gt;&lt;br/&gt;Yo...</td>\n",
       "      <td>If You Forget Me</td>\n",
       "    </tr>\n",
       "  </tbody>\n",
       "</table>\n",
       "</div>"
      ],
      "text/plain": [
       "              0                                                  1  \\\n",
       "0        author                                               text   \n",
       "1  Maya Angelou  Pretty women wonder where my secret lies.<br/>...   \n",
       "2  Maya Angelou  You may write me down in history<br/>With your...   \n",
       "3  Robert Frost  Two roads diverged in a yellow wood,<br/>And s...   \n",
       "4  Pablo Neruda  I want you to know<br/>one thing. <br/><br/>Yo...   \n",
       "\n",
       "                    2  \n",
       "0               title  \n",
       "1    Phenomenal Woman  \n",
       "2        Still I Rise  \n",
       "3  The Road Not Taken  \n",
       "4    If You Forget Me  "
      ]
     },
     "execution_count": 18,
     "metadata": {},
     "output_type": "execute_result"
    }
   ],
   "source": [
    "df_poems = pd.read_csv(\"poems_collection.csv\", header=None)\n",
    "df_poems.head()"
   ]
  },
  {
   "cell_type": "code",
   "execution_count": 19,
   "metadata": {},
   "outputs": [
    {
     "name": "stdout",
     "output_type": "stream",
     "text": [
      "\u001b[1mUnder One Small Star\u001b[0m\n",
      "\n",
      "\n",
      "My apologies to chance for calling it necessity.\n",
      "My apologies to necessity if I'm mistaken, after all.\n",
      "Please, don't be angry, happiness, that I take you as my due.\n",
      "May my dead be patient with the way my memories fade.\n",
      "My apologies to time for all the world I overlook each second.\n",
      "My apologies to past loves for thinking that the latest is the first.\n",
      "Forgive me, distant wars, for bringing flowers home.\n",
      "Forgive me, open wounds, for pricking my finger.\n",
      "I apologize for my record of minuets to those who cry from the depths.\n",
      "I apologize to those who wait in railway stations for being asleep today at five a.m.\n",
      "Pardon me, hounded hope, for laughing from time to time.\n",
      "Pardon me, deserts, that I don't rush to you bearing a spoonful of water. \n",
      "And you, falcon, unchanging year after year, always in the same cage,\n",
      "your gaze always fixed on the same point in space,\n",
      "forgive me, even if it turns out you were stuffed.\n",
      "My apologies to the felled tree for the table's four legs.\n",
      "My apologies to great questions for small answers.\n",
      "Truth, please don't pay me much attention.\n",
      "Dignity, please be magnanimous.\n",
      "Bear with me, O mystery of existence, as I pluck the occasional thread from your train.\n",
      "Soul, don't take offense that I've only got you now and then.\n",
      "My apologies to everything that I can't be everywhere at once.\n",
      "My apologies to everyone that I can't be each woman and each man.\n",
      "I know I won't be justified as long as I live,\n",
      "since I myself stand in my own way.\n",
      "Don't bear me ill will, speech, that I borrow weighty words,\n",
      "then labor heavily so that they may seem light.\n",
      "\n",
      "by: Wislawa Szymborska\n"
     ]
    }
   ],
   "source": [
    "class color:\n",
    "   PURPLE = '\\033[95m'\n",
    "   CYAN = '\\033[96m'\n",
    "   DARKCYAN = '\\033[36m'\n",
    "   BLUE = '\\033[94m'\n",
    "   GREEN = '\\033[92m'\n",
    "   YELLOW = '\\033[93m'\n",
    "   RED = '\\033[91m'\n",
    "   BOLD = '\\033[1m'\n",
    "   UNDERLINE = '\\033[4m'\n",
    "   END = '\\033[0m'\n",
    "\n",
    "target_index = target_index + 1    \n",
    "    \n",
    "print(color.BOLD + df_poems.iloc[target_index,2].replace(\"<br/>\",\"\\n\") + color.END)\n",
    "print()\n",
    "print()\n",
    "print(df_poems.iloc[target_index,1].replace(\"<br/>\",\"\\n\").strip())\n",
    "print()\n",
    "print(\"by:\", df_poems.iloc[target_index,0].replace(\"<br/>\",\"\\n\"))"
   ]
  },
  {
   "cell_type": "code",
   "execution_count": null,
   "metadata": {
    "collapsed": true
   },
   "outputs": [],
   "source": []
  },
  {
   "cell_type": "code",
   "execution_count": null,
   "metadata": {
    "collapsed": true
   },
   "outputs": [],
   "source": []
  },
  {
   "cell_type": "code",
   "execution_count": null,
   "metadata": {
    "collapsed": true
   },
   "outputs": [],
   "source": []
  },
  {
   "cell_type": "code",
   "execution_count": null,
   "metadata": {
    "collapsed": true
   },
   "outputs": [],
   "source": []
  },
  {
   "cell_type": "code",
   "execution_count": null,
   "metadata": {
    "collapsed": true
   },
   "outputs": [],
   "source": []
  }
 ],
 "metadata": {
  "kernelspec": {
   "display_name": "Python 3",
   "language": "python",
   "name": "python3"
  },
  "language_info": {
   "codemirror_mode": {
    "name": "ipython",
    "version": 3
   },
   "file_extension": ".py",
   "mimetype": "text/x-python",
   "name": "python",
   "nbconvert_exporter": "python",
   "pygments_lexer": "ipython3",
   "version": "3.5.2"
  }
 },
 "nbformat": 4,
 "nbformat_minor": 2
}
