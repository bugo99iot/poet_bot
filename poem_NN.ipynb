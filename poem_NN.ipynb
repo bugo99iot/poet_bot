{
 "cells": [
  {
   "cell_type": "code",
   "execution_count": 201,
   "metadata": {
    "collapsed": true
   },
   "outputs": [],
   "source": [
    "import pandas as pd\n",
    "import nltk\n",
    "from nltk.stem import PorterStemmer\n",
    "import re\n",
    "from nltk.corpus import stopwords\n",
    "from nltk import word_tokenize, pos_tag"
   ]
  },
  {
   "cell_type": "code",
   "execution_count": 205,
   "metadata": {},
   "outputs": [],
   "source": [
    "df = pd.read_csv(\"poems_collection.csv\")"
   ]
  },
  {
   "cell_type": "code",
   "execution_count": 206,
   "metadata": {},
   "outputs": [
    {
     "data": {
      "text/html": [
       "<div>\n",
       "<style>\n",
       "    .dataframe thead tr:only-child th {\n",
       "        text-align: right;\n",
       "    }\n",
       "\n",
       "    .dataframe thead th {\n",
       "        text-align: left;\n",
       "    }\n",
       "\n",
       "    .dataframe tbody tr th {\n",
       "        vertical-align: top;\n",
       "    }\n",
       "</style>\n",
       "<table border=\"1\" class=\"dataframe\">\n",
       "  <thead>\n",
       "    <tr style=\"text-align: right;\">\n",
       "      <th></th>\n",
       "      <th>author</th>\n",
       "      <th>text</th>\n",
       "      <th>title</th>\n",
       "    </tr>\n",
       "  </thead>\n",
       "  <tbody>\n",
       "    <tr>\n",
       "      <th>0</th>\n",
       "      <td>Maya Angelou</td>\n",
       "      <td>Pretty women wonder where my secret lies.&lt;br/&gt;...</td>\n",
       "      <td>Phenomenal Woman</td>\n",
       "    </tr>\n",
       "    <tr>\n",
       "      <th>1</th>\n",
       "      <td>Maya Angelou</td>\n",
       "      <td>You may write me down in history&lt;br/&gt;With your...</td>\n",
       "      <td>Still I Rise</td>\n",
       "    </tr>\n",
       "    <tr>\n",
       "      <th>2</th>\n",
       "      <td>Robert Frost</td>\n",
       "      <td>Two roads diverged in a yellow wood,&lt;br/&gt;And s...</td>\n",
       "      <td>The Road Not Taken</td>\n",
       "    </tr>\n",
       "    <tr>\n",
       "      <th>3</th>\n",
       "      <td>Pablo Neruda</td>\n",
       "      <td>I want you to know&lt;br/&gt;one thing. &lt;br/&gt;&lt;br/&gt;Yo...</td>\n",
       "      <td>If You Forget Me</td>\n",
       "    </tr>\n",
       "    <tr>\n",
       "      <th>4</th>\n",
       "      <td>Langston Hughes</td>\n",
       "      <td>Hold fast to dreams&lt;br/&gt;For if dreams die&lt;br/&gt;...</td>\n",
       "      <td>Dreams</td>\n",
       "    </tr>\n",
       "  </tbody>\n",
       "</table>\n",
       "</div>"
      ],
      "text/plain": [
       "            author                                               text  \\\n",
       "0     Maya Angelou  Pretty women wonder where my secret lies.<br/>...   \n",
       "1     Maya Angelou  You may write me down in history<br/>With your...   \n",
       "2     Robert Frost  Two roads diverged in a yellow wood,<br/>And s...   \n",
       "3     Pablo Neruda  I want you to know<br/>one thing. <br/><br/>Yo...   \n",
       "4  Langston Hughes  Hold fast to dreams<br/>For if dreams die<br/>...   \n",
       "\n",
       "                title  \n",
       "0    Phenomenal Woman  \n",
       "1        Still I Rise  \n",
       "2  The Road Not Taken  \n",
       "3    If You Forget Me  \n",
       "4              Dreams  "
      ]
     },
     "execution_count": 206,
     "metadata": {},
     "output_type": "execute_result"
    }
   ],
   "source": [
    "df.head()"
   ]
  },
  {
   "cell_type": "code",
   "execution_count": 207,
   "metadata": {},
   "outputs": [
    {
     "name": "stdout",
     "output_type": "stream",
     "text": [
      "Pretty women wonder where my secret lies.\n",
      "I'm not cute or built to suit a fashion model's size\n",
      "But when I start to tell them,\n",
      "They think I'm telling lies.\n",
      "I say,\n",
      "It's in the reach of my arms\n",
      "The span of my hips,\n",
      "The stride of my step,\n",
      "The curl of my lips.\n",
      "I'm a woman\n",
      "Phenomenally.\n",
      "Phenomenal woman,\n",
      "That's me.\n",
      "\n",
      "I walk into a room\n",
      "Just as cool as you please,\n",
      "And to a man,\n",
      "The fellows stand or\n",
      "Fall down on their knees.\n",
      "Then they swarm around me,\n",
      "A hive of honey bees.\n",
      "I say,\n",
      "It's the fire in my eyes,\n",
      "And the flash of my teeth,\n",
      "The swing in my waist,\n",
      "And the joy in my feet.\n",
      "I'm a woman\n",
      "Phenomenally.\n",
      "Phenomenal woman,\n",
      "That's me.\n",
      "\n",
      "Men themselves have wondered\n",
      "What they see in me.\n",
      "They try so much\n",
      "But they can't touch\n",
      "My inner mystery.\n",
      "When I try to show them\n",
      "They say they still can't see.\n",
      "I say,\n",
      "It's in the arch of my back,\n",
      "The sun of my smile,\n",
      "The ride of my breasts,\n",
      "The grace of my style.\n",
      "I'm a woman\n",
      "\n",
      "Phenomenally.\n",
      "Phenomenal woman,\n",
      "That's me.\n",
      "\n",
      "Now you understand\n",
      "Just why my head's not bowed.\n",
      "I don't shout or jump about\n",
      "Or have to talk real loud.\n",
      "When you see me passing\n",
      "It ought to make you proud.\n",
      "I say,\n",
      "It's in the click of my heels,\n",
      "The bend of my hair,\n",
      "the palm of my hand,\n",
      "The need of my care,\n",
      "'Cause I'm a woman\n",
      "Phenomenally.\n",
      "Phenomenal woman,\n",
      "That's me. \r\n",
      "            \n",
      "\n"
     ]
    }
   ],
   "source": [
    "print(df[\"text\"].iloc[0].replace(\"<br/>\",\"\\n\"))"
   ]
  },
  {
   "cell_type": "code",
   "execution_count": 208,
   "metadata": {},
   "outputs": [
    {
     "name": "stdout",
     "output_type": "stream",
     "text": [
      "['hello', 'deer', 'grasp', 'beauti', 'switch', 'run', 'garden', 'sorri', 'delay', 'yolanda']\n"
     ]
    }
   ],
   "source": [
    "ps = PorterStemmer()\n",
    "stringa = \"Hello a deer was in for I you the grasped beautiful switched 8 (running) garden, you... wasn't here, sorry for the delay  <br/>, <br/> <br/><br/>  <br/>Yolanda  \"\n",
    "tokens = word_tokenize(stringa.lower())\n",
    "filtered_tokens = [ps.stem(word) for word in tokens if word not in stopwords.words('english') and bool(re.search(\"[-0123456789>}{(</',;:!?.)]\", word))==False]\n",
    "\n",
    "#nouns = [token for token, pos in pos_tag(filtered_tokens) if pos.startswith('N') or pos.startswith('V')]\n",
    "print(filtered_tokens)\n"
   ]
  },
  {
   "cell_type": "code",
   "execution_count": 211,
   "metadata": {},
   "outputs": [
    {
     "data": {
      "text/html": [
       "<div>\n",
       "<style>\n",
       "    .dataframe thead tr:only-child th {\n",
       "        text-align: right;\n",
       "    }\n",
       "\n",
       "    .dataframe thead th {\n",
       "        text-align: left;\n",
       "    }\n",
       "\n",
       "    .dataframe tbody tr th {\n",
       "        vertical-align: top;\n",
       "    }\n",
       "</style>\n",
       "<table border=\"1\" class=\"dataframe\">\n",
       "  <thead>\n",
       "    <tr style=\"text-align: right;\">\n",
       "      <th></th>\n",
       "      <th>author</th>\n",
       "      <th>text</th>\n",
       "      <th>title</th>\n",
       "      <th>tokens</th>\n",
       "      <th>title_token</th>\n",
       "    </tr>\n",
       "  </thead>\n",
       "  <tbody>\n",
       "    <tr>\n",
       "      <th>0</th>\n",
       "      <td>Maya Angelou</td>\n",
       "      <td>Pretty women wonder where my secret lies.&lt;br/&gt;...</td>\n",
       "      <td>Phenomenal Woman</td>\n",
       "      <td>[pretti, women, wonder, secret, cute, built, s...</td>\n",
       "      <td>[phenomen, woman]</td>\n",
       "    </tr>\n",
       "    <tr>\n",
       "      <th>1</th>\n",
       "      <td>Maya Angelou</td>\n",
       "      <td>You may write me down in history&lt;br/&gt;With your...</td>\n",
       "      <td>Still I Rise</td>\n",
       "      <td>[may, write, histori, bitter, twist, lie, may,...</td>\n",
       "      <td>[still, rise]</td>\n",
       "    </tr>\n",
       "    <tr>\n",
       "      <th>2</th>\n",
       "      <td>Robert Frost</td>\n",
       "      <td>Two roads diverged in a yellow wood,&lt;br/&gt;And s...</td>\n",
       "      <td>The Road Not Taken</td>\n",
       "      <td>[two, road, diverg, yellow, wood, sorri, could...</td>\n",
       "      <td>[road, taken]</td>\n",
       "    </tr>\n",
       "    <tr>\n",
       "      <th>3</th>\n",
       "      <td>Pablo Neruda</td>\n",
       "      <td>I want you to know&lt;br/&gt;one thing. &lt;br/&gt;&lt;br/&gt;Yo...</td>\n",
       "      <td>If You Forget Me</td>\n",
       "      <td>[want, know, one, thing, know, look, crystal, ...</td>\n",
       "      <td>[forget]</td>\n",
       "    </tr>\n",
       "    <tr>\n",
       "      <th>4</th>\n",
       "      <td>Langston Hughes</td>\n",
       "      <td>Hold fast to dreams&lt;br/&gt;For if dreams die&lt;br/&gt;...</td>\n",
       "      <td>Dreams</td>\n",
       "      <td>[hold, fast, dream, dream, die, life, bird, ho...</td>\n",
       "      <td>[dream]</td>\n",
       "    </tr>\n",
       "  </tbody>\n",
       "</table>\n",
       "</div>"
      ],
      "text/plain": [
       "            author                                               text  \\\n",
       "0     Maya Angelou  Pretty women wonder where my secret lies.<br/>...   \n",
       "1     Maya Angelou  You may write me down in history<br/>With your...   \n",
       "2     Robert Frost  Two roads diverged in a yellow wood,<br/>And s...   \n",
       "3     Pablo Neruda  I want you to know<br/>one thing. <br/><br/>Yo...   \n",
       "4  Langston Hughes  Hold fast to dreams<br/>For if dreams die<br/>...   \n",
       "\n",
       "                title                                             tokens  \\\n",
       "0    Phenomenal Woman  [pretti, women, wonder, secret, cute, built, s...   \n",
       "1        Still I Rise  [may, write, histori, bitter, twist, lie, may,...   \n",
       "2  The Road Not Taken  [two, road, diverg, yellow, wood, sorri, could...   \n",
       "3    If You Forget Me  [want, know, one, thing, know, look, crystal, ...   \n",
       "4              Dreams  [hold, fast, dream, dream, die, life, bird, ho...   \n",
       "\n",
       "         title_token  \n",
       "0  [phenomen, woman]  \n",
       "1      [still, rise]  \n",
       "2      [road, taken]  \n",
       "3           [forget]  \n",
       "4            [dream]  "
      ]
     },
     "execution_count": 211,
     "metadata": {},
     "output_type": "execute_result"
    }
   ],
   "source": [
    "ps = PorterStemmer()\n",
    "def clean_string(row):\n",
    "    tokens = word_tokenize(row.lower())\n",
    "    filtered_tokens = [ps.stem(word) for word in tokens if word not in stopwords.words('english') and bool(re.search(\"[-0123456789`>(</',;:!?.)]\", word))==False]\n",
    "    return filtered_tokens\n",
    "df[\"tokens\"]=df[\"text\"].apply(clean_string)\n",
    "df[\"title_token\"]=df[\"title\"].apply(clean_string)\n",
    "df.head()\n",
    "\n",
    "#calculate average number of words in poem\n",
    "\n",
    "#shuffle tokens and cut to average lenght, then dump to a df you will use for learning (avoid words that appear only in <10% or so and >95% or so)\n",
    "\n"
   ]
  },
  {
   "cell_type": "code",
   "execution_count": 219,
   "metadata": {},
   "outputs": [
    {
     "name": "stdout",
     "output_type": "stream",
     "text": [
      "108.1867469879518\n",
      "['wear', 'mask', 'wear', 'mask', 'wear', 'mask', 'grin', 'lie', 'hide', 'cheek', 'shade', 'eye', 'debt', 'pay', 'human', 'guil', 'torn', 'bleed', 'heart', 'smile', 'mouth', 'myriad', 'world', 'overwis', 'count', 'tear', 'sigh', 'nay', 'let', 'see', 'us', 'wear', 'smile', 'great', 'christ', 'cri', 'thee', 'tortur', 'soul', 'sing', 'oh', 'clay', 'vile', 'beneath', 'feet', 'long', 'mile', 'let', 'world', 'dream', 'otherwis', 'wear', 'mask', ' ', ' ', ' ', ' ', ' ', ' ', ' ', ' ', ' ', ' ', ' ', ' ', ' ', ' ', ' ', ' ', ' '] 70\n"
     ]
    }
   ],
   "source": [
    "#compute average token length\n",
    "\n",
    "tot=0\n",
    "for i in range(0,df.shape[0]):\n",
    "    tot+=len(df[\"tokens\"].iloc[i])\n",
    "average = (tot / df.shape[0])\n",
    "print(average)\n",
    "cut = 70\n",
    "df[\"tokens\"] = df[\"title_token\"] + df[\"tokens\"]\n",
    "for i in range(0,df.shape[0]):\n",
    "    if len(df[\"tokens\"].iloc[i]) < cut:\n",
    "        df[\"tokens\"].iloc[i] = df[\"tokens\"].iloc[i] + [\" \"] * (cut - len(df[\"tokens\"].iloc[i]))\n",
    "        \n",
    "df[\"tokens_cut\"] = df[\"tokens\"].apply(lambda lista: lista[:50])\n",
    "#print(df[\"tokens_cut\"].iloc[48],len(df[\"tokens_cut\"].iloc[48]))\n",
    "print(df[\"tokens\"].iloc[51],len(df[\"tokens\"].iloc[51]))"
   ]
  },
  {
   "cell_type": "code",
   "execution_count": 220,
   "metadata": {},
   "outputs": [
    {
     "name": "stdout",
     "output_type": "stream",
     "text": [
      "['wear', 'mask', 'wear', 'mask', 'wear', 'mask', 'grin', 'lie', 'hide', 'cheek', 'shade', 'eye', 'debt', 'pay', 'human', 'guil', 'torn', 'bleed', 'heart', 'smile', 'mouth', 'myriad', 'world', 'overwis', 'count', 'tear', 'sigh', 'nay', 'let', 'see', 'us', 'wear', 'smile', 'great', 'christ', 'cri', 'thee', 'tortur', 'soul', 'sing', 'oh', 'clay', 'vile', 'beneath', 'feet', 'long', 'mile', 'let', 'world', 'dream'] 50\n"
     ]
    }
   ],
   "source": [
    "print(df[\"tokens_cut\"].iloc[51],len(df[\"tokens_cut\"].iloc[51]))\n",
    "tokens_df=pd.DataFrame([df[\"tokens_cut\"]]).T\n",
    "with open('tokenized_poems.csv', \"w\") as f:\n",
    "    tokens_df.to_csv(f, header=False, index=False)"
   ]
  },
  {
   "cell_type": "code",
   "execution_count": 221,
   "metadata": {},
   "outputs": [
    {
     "data": {
      "text/plain": [
       "0    phenomen woman phenomen woman pretti women won...\n",
       "1    still rise still rise may write histori bitter...\n",
       "2    road taken road taken two road diverg yellow w...\n",
       "3    forget forget want know one thing know look cr...\n",
       "4    dream dream hold fast dream dream die life bir...\n",
       "Name: text_clean, dtype: object"
      ]
     },
     "execution_count": 221,
     "metadata": {},
     "output_type": "execute_result"
    }
   ],
   "source": [
    "df[\"text_clean\"]=df[\"tokens_cut\"].apply(lambda token: \" \".join(token))\n",
    "df[\"text_clean\"].head()"
   ]
  },
  {
   "cell_type": "code",
   "execution_count": 222,
   "metadata": {},
   "outputs": [],
   "source": [
    "#tokens_df = pd.DataFrame.from_items(zip(df[\"text_clean\"].index, df[\"text_clean\"].values)).T\n",
    "#tokens_df.head()\n",
    "text_clean_df=pd.DataFrame([df[\"text_clean\"]]).T"
   ]
  },
  {
   "cell_type": "code",
   "execution_count": 223,
   "metadata": {},
   "outputs": [
    {
     "data": {
      "text/plain": [
       "(498, 1)"
      ]
     },
     "execution_count": 223,
     "metadata": {},
     "output_type": "execute_result"
    }
   ],
   "source": [
    "text_clean_df.shape"
   ]
  },
  {
   "cell_type": "code",
   "execution_count": 224,
   "metadata": {},
   "outputs": [
    {
     "data": {
      "text/html": [
       "<div>\n",
       "<style>\n",
       "    .dataframe thead tr:only-child th {\n",
       "        text-align: right;\n",
       "    }\n",
       "\n",
       "    .dataframe thead th {\n",
       "        text-align: left;\n",
       "    }\n",
       "\n",
       "    .dataframe tbody tr th {\n",
       "        vertical-align: top;\n",
       "    }\n",
       "</style>\n",
       "<table border=\"1\" class=\"dataframe\">\n",
       "  <thead>\n",
       "    <tr style=\"text-align: right;\">\n",
       "      <th></th>\n",
       "      <th>text_clean</th>\n",
       "    </tr>\n",
       "  </thead>\n",
       "  <tbody>\n",
       "    <tr>\n",
       "      <th>0</th>\n",
       "      <td>phenomen woman phenomen woman pretti women won...</td>\n",
       "    </tr>\n",
       "    <tr>\n",
       "      <th>1</th>\n",
       "      <td>still rise still rise may write histori bitter...</td>\n",
       "    </tr>\n",
       "    <tr>\n",
       "      <th>2</th>\n",
       "      <td>road taken road taken two road diverg yellow w...</td>\n",
       "    </tr>\n",
       "    <tr>\n",
       "      <th>3</th>\n",
       "      <td>forget forget want know one thing know look cr...</td>\n",
       "    </tr>\n",
       "    <tr>\n",
       "      <th>4</th>\n",
       "      <td>dream dream hold fast dream dream die life bir...</td>\n",
       "    </tr>\n",
       "  </tbody>\n",
       "</table>\n",
       "</div>"
      ],
      "text/plain": [
       "                                          text_clean\n",
       "0  phenomen woman phenomen woman pretti women won...\n",
       "1  still rise still rise may write histori bitter...\n",
       "2  road taken road taken two road diverg yellow w...\n",
       "3  forget forget want know one thing know look cr...\n",
       "4  dream dream hold fast dream dream die life bir..."
      ]
     },
     "execution_count": 224,
     "metadata": {},
     "output_type": "execute_result"
    }
   ],
   "source": [
    "text_clean_df.head()"
   ]
  },
  {
   "cell_type": "code",
   "execution_count": 225,
   "metadata": {
    "collapsed": true
   },
   "outputs": [],
   "source": [
    "with open('clean_text_poems.csv', \"w\") as f:\n",
    "    text_clean_df.to_csv(f, header=False, index=False)"
   ]
  },
  {
   "cell_type": "code",
   "execution_count": null,
   "metadata": {
    "collapsed": true
   },
   "outputs": [],
   "source": []
  },
  {
   "cell_type": "code",
   "execution_count": null,
   "metadata": {
    "collapsed": true
   },
   "outputs": [],
   "source": []
  },
  {
   "cell_type": "code",
   "execution_count": null,
   "metadata": {
    "collapsed": true
   },
   "outputs": [],
   "source": []
  }
 ],
 "metadata": {
  "kernelspec": {
   "display_name": "Python 3",
   "language": "python",
   "name": "python3"
  },
  "language_info": {
   "codemirror_mode": {
    "name": "ipython",
    "version": 3
   },
   "file_extension": ".py",
   "mimetype": "text/x-python",
   "name": "python",
   "nbconvert_exporter": "python",
   "pygments_lexer": "ipython3",
   "version": "3.5.2"
  }
 },
 "nbformat": 4,
 "nbformat_minor": 2
}
